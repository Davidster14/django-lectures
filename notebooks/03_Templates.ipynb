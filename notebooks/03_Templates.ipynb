{
 "cells": [
  {
   "cell_type": "markdown",
   "metadata": {},
   "source": [
    "# Chapter 3: Templates\n",
    "\n",
    "## Where do templates belong in a Django project?\n",
    "\n",
    "There are two (or three) options:\n",
    "\n",
    "* A separate `templates` folder for each app\n",
    "* A common `templates` folder for all apps\n",
    "* A combination of both\n",
    "\n",
    "Depending on our choice, we must adjust the `settings.py`.\n",
    "When using a common `templates` folder for all apps, you need to create this folder at the root of your project.\n",
    "\n",
    "**Heads up, conventions!**\n",
    "In theory you can choose any name for the common `templates` folder and place it at any location.\n",
    "You can even use multiple such folders with different names and at different locations.\n",
    "It is by convention that we use the name `templates` and place it at the root of the project.\n",
    "This helps to avoid confusion.\n",
    "\n",
    "### Separate `templates` folder for each app\n",
    "\n",
    "This is the default configuration when starting a new Django project."
   ]
  },
  {
   "cell_type": "code",
   "execution_count": 1,
   "metadata": {},
   "outputs": [],
   "source": [
    "TEMPLATES = [\n",
    "    {\n",
    "        # ...\n",
    "        'DIRS': [],\n",
    "        'APP_DIRS': True\n",
    "        # ...\n",
    "    }\n",
    "]"
   ]
  },
  {
   "cell_type": "markdown",
   "metadata": {},
   "source": [
    "### Common `templates` folder"
   ]
  },
  {
   "cell_type": "code",
   "execution_count": 2,
   "metadata": {},
   "outputs": [],
   "source": [
    "TEMPLATES = [\n",
    "    {\n",
    "        # ...\n",
    "        'DIRS': [ 'templates' ],\n",
    "        'APP_DIRS': False\n",
    "        # ...\n",
    "    }\n",
    "]"
   ]
  },
  {
   "cell_type": "markdown",
   "metadata": {},
   "source": [
    "### Combination of both"
   ]
  },
  {
   "cell_type": "code",
   "execution_count": 3,
   "metadata": {},
   "outputs": [],
   "source": [
    "TEMPLATES = [\n",
    "    {\n",
    "        # ...\n",
    "        'DIRS': [ 'templates' ],\n",
    "        'APP_DIRS': True\n",
    "        # ...\n",
    "    }\n",
    "]"
   ]
  },
  {
   "cell_type": "markdown",
   "metadata": {},
   "source": [
    "## Static Templates\n",
    "\n",
    "## Templates with Context\n",
    "\n",
    "### Render variables\n",
    "\n",
    "### Filters\n",
    "\n",
    "### Escaping HTML\n",
    "\n",
    "## Control Structures in Templates\n",
    "\n",
    "### Conditionals\n",
    "\n",
    "### Loops\n",
    "\n",
    "## Structuring Templates\n",
    "\n",
    "### Include\n",
    "\n",
    "### Extends"
   ]
  },
  {
   "cell_type": "markdown",
   "metadata": {},
   "source": [
    "Übung für heute:\n",
    "\n",
    "Bestehendes oder neues Django-Übungsprojekt\n",
    "\n",
    "Neue App \"template_exercises\" anlegen\n",
    "\n",
    "Neues Template \"home.html\" anlegen\n",
    "\n",
    "Neue Route \"/\" anlegen und mit Template verknüpfen\n",
    "\n",
    "Neues Template \"base.html\" anlegen\n",
    "\n",
    "Bestehendes Template \"home.html\" als Erweiterung von \"base.html\" umformulieren"
   ]
  }
 ],
 "metadata": {
  "kernelspec": {
   "display_name": ".venv",
   "language": "python",
   "name": "python3"
  },
  "language_info": {
   "codemirror_mode": {
    "name": "ipython",
    "version": 3
   },
   "file_extension": ".py",
   "mimetype": "text/x-python",
   "name": "python",
   "nbconvert_exporter": "python",
   "pygments_lexer": "ipython3",
   "version": "3.9.19"
  }
 },
 "nbformat": 4,
 "nbformat_minor": 2
}
